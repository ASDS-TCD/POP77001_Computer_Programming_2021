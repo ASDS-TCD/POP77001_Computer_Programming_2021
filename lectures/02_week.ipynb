{
 "cells": [
  {
   "cell_type": "markdown",
   "id": "76df83ea",
   "metadata": {
    "slideshow": {
     "slide_type": "slide"
    }
   },
   "source": [
    "# Week 2: Python Basics\n",
    "\n",
    "## POP77001 Computer Programming for Social Scientists\n",
    "\n",
    "### Tom Paskhalis\n",
    "\n",
    "##### Module website: [bit.ly/POP77001](https://bit.ly/POP77001)"
   ]
  },
  {
   "cell_type": "markdown",
   "id": "19216ade",
   "metadata": {
    "slideshow": {
     "slide_type": "slide"
    }
   },
   "source": [
    "<table>\n",
    "    <tr>\n",
    "        <td><img width=\"500\" src='../imgs/python_snake.jpg'></td>\n",
    "        <td><img width=\"500\" src='../imgs/python_monty.png'></td>\n",
    "    </tr>\n",
    "</table>"
   ]
  },
  {
   "cell_type": "markdown",
   "id": "f25b2253",
   "metadata": {
    "slideshow": {
     "slide_type": "slide"
    }
   },
   "source": [
    "<div style=\"text-align: center;\">\n",
    "    <img width=\"500\" height=\"300\" src=\"../imgs/xkcd_353.png\">\n",
    "</div>\n",
    "\n",
    "Source: [xkcd](https://xkcd.com/353/)"
   ]
  },
  {
   "cell_type": "markdown",
   "id": "cb24715c",
   "metadata": {
    "slideshow": {
     "slide_type": "slide"
    }
   },
   "source": [
    "## Python background\n",
    "\n",
    "<table>\n",
    "    <tr>\n",
    "        <td><img width=\"200\" height=\"100\" src='../imgs/guido.gif'></td>\n",
    "        <td><img width=\"200\" height=\"100\" src='../imgs/python_logo.png'></td>\n",
    "    </tr>\n",
    "</table>\n",
    "\n",
    "Source: [Guido van Rossum](https://gvanrossum.github.io/), [Python Software Foundation](https://www.python.org/psf-landing/)\n",
    "\n",
    "- Started as a side-project in 1989 by Guido van Rossum, BDFL (benevolent dictator for life) until 2018.\n",
    "- Python 3, first released in 2008, is the current major version\n",
    "- Python 2 support stopped on 1 January 2020"
   ]
  },
  {
   "cell_type": "markdown",
   "id": "91f415bc",
   "metadata": {
    "slideshow": {
     "slide_type": "slide"
    }
   },
   "source": [
    "## Python basics\n",
    "\n",
    "- Python is an *intepreted* language (like R and Stata)\n",
    "- Every program is executed one *command* (aka *statement*) at a time\n",
    "- Which also means that work can be done interactively"
   ]
  },
  {
   "cell_type": "code",
   "execution_count": 1,
   "id": "664257de",
   "metadata": {
    "slideshow": {
     "slide_type": "fragment"
    }
   },
   "outputs": [
    {
     "name": "stdout",
     "output_type": "stream",
     "text": [
      "Hello World!\n"
     ]
    }
   ],
   "source": [
    "print(\"Hello World!\")"
   ]
  },
  {
   "cell_type": "markdown",
   "id": "5d50047d",
   "metadata": {
    "slideshow": {
     "slide_type": "slide"
    }
   },
   "source": [
    "## Python conceptual hierarchy\n",
    "\n",
    "Python programs can be decomposed into modules, statements, expressions, and objects, as follows:\n",
    "\n",
    "1. *Programs* are composed of *modules*\n",
    "2. *Modules* contain *statements*\n",
    "3. *Statements* contain *expressions*\n",
    "4. *Expressions* create and process *objects*"
   ]
  },
  {
   "cell_type": "markdown",
   "id": "5fa214bf",
   "metadata": {
    "slideshow": {
     "slide_type": "slide"
    }
   },
   "source": [
    "## Python objects\n",
    "\n",
    "- Everything that Python operates on is an *object*\n",
    "- This includes numbers, strings, data structures, functions, etc.\n",
    "- Eact object has a *type* (e.g. string or function) and internal data\n",
    "- Objects can be *mutable* (e.g. list) and *immutable* (e.g. string)"
   ]
  },
  {
   "cell_type": "markdown",
   "id": "0f3c2e45",
   "metadata": {
    "slideshow": {
     "slide_type": "slide"
    }
   },
   "source": [
    "## Operators\n",
    "\n",
    "*Objects* and *operators* are combined to form *expressions*. Key *operators* are:\n",
    "\n",
    "- Arithmetic (`+`, `-`, `*`, `**`, `/`, `//`, `%`)\n",
    "- Boolean (`and`, `or`, `not`)\n",
    "- Relational (`==`, `!=`, `>`, `>=`, `<`, `<=`)\n",
    "- Assignment (`=`, `+=`, `-=`, `*=`, `/=`)\n",
    "- Membership (`in`)"
   ]
  },
  {
   "cell_type": "markdown",
   "id": "b44c5c32",
   "metadata": {
    "slideshow": {
     "slide_type": "slide"
    }
   },
   "source": [
    "## Basic mathematical operations in Python"
   ]
  },
  {
   "cell_type": "code",
   "execution_count": 2,
   "id": "61aaf981",
   "metadata": {
    "slideshow": {
     "slide_type": "fragment"
    }
   },
   "outputs": [
    {
     "data": {
      "text/plain": [
       "2"
      ]
     },
     "execution_count": 2,
     "metadata": {},
     "output_type": "execute_result"
    }
   ],
   "source": [
    "1 + 1"
   ]
  },
  {
   "cell_type": "code",
   "execution_count": 3,
   "id": "2f916255",
   "metadata": {
    "slideshow": {
     "slide_type": "fragment"
    }
   },
   "outputs": [
    {
     "data": {
      "text/plain": [
       "2"
      ]
     },
     "execution_count": 3,
     "metadata": {},
     "output_type": "execute_result"
    }
   ],
   "source": [
    "5 - 3"
   ]
  },
  {
   "cell_type": "code",
   "execution_count": 4,
   "id": "81f080ea",
   "metadata": {
    "slideshow": {
     "slide_type": "fragment"
    }
   },
   "outputs": [
    {
     "data": {
      "text/plain": [
       "3.0"
      ]
     },
     "execution_count": 4,
     "metadata": {},
     "output_type": "execute_result"
    }
   ],
   "source": [
    "6 / 2"
   ]
  },
  {
   "cell_type": "code",
   "execution_count": 5,
   "id": "8d90f46f",
   "metadata": {
    "slideshow": {
     "slide_type": "fragment"
    }
   },
   "outputs": [
    {
     "data": {
      "text/plain": [
       "16"
      ]
     },
     "execution_count": 5,
     "metadata": {},
     "output_type": "execute_result"
    }
   ],
   "source": [
    "4 * 4"
   ]
  },
  {
   "cell_type": "code",
   "execution_count": 6,
   "id": "e8d32c1a",
   "metadata": {
    "slideshow": {
     "slide_type": "fragment"
    }
   },
   "outputs": [
    {
     "data": {
      "text/plain": [
       "16"
      ]
     },
     "execution_count": 6,
     "metadata": {},
     "output_type": "execute_result"
    }
   ],
   "source": [
    "# Exponentiation <- Python comments start with #\n",
    "2 ** 4"
   ]
  },
  {
   "cell_type": "markdown",
   "id": "f883f6ad",
   "metadata": {
    "slideshow": {
     "slide_type": "slide"
    }
   },
   "source": [
    "## Basic logical operations in Python"
   ]
  },
  {
   "cell_type": "code",
   "execution_count": 7,
   "id": "8dd07728",
   "metadata": {
    "slideshow": {
     "slide_type": "fragment"
    }
   },
   "outputs": [
    {
     "data": {
      "text/plain": [
       "True"
      ]
     },
     "execution_count": 7,
     "metadata": {},
     "output_type": "execute_result"
    }
   ],
   "source": [
    "3 != 1 # Not equal"
   ]
  },
  {
   "cell_type": "code",
   "execution_count": 8,
   "id": "fb6ef14d",
   "metadata": {
    "slideshow": {
     "slide_type": "fragment"
    }
   },
   "outputs": [
    {
     "data": {
      "text/plain": [
       "False"
      ]
     },
     "execution_count": 8,
     "metadata": {},
     "output_type": "execute_result"
    }
   ],
   "source": [
    "3 > 3 # Greater than"
   ]
  },
  {
   "cell_type": "code",
   "execution_count": 9,
   "id": "6f949e57",
   "metadata": {
    "slideshow": {
     "slide_type": "fragment"
    }
   },
   "outputs": [
    {
     "data": {
      "text/plain": [
       "True"
      ]
     },
     "execution_count": 9,
     "metadata": {},
     "output_type": "execute_result"
    }
   ],
   "source": [
    "3 >= 3 # Greater than or equal"
   ]
  },
  {
   "cell_type": "code",
   "execution_count": 10,
   "id": "5fa16cef",
   "metadata": {
    "slideshow": {
     "slide_type": "fragment"
    }
   },
   "outputs": [
    {
     "data": {
      "text/plain": [
       "True"
      ]
     },
     "execution_count": 10,
     "metadata": {},
     "output_type": "execute_result"
    }
   ],
   "source": [
    "False or True # True if either first or second operand is True, False otherwise"
   ]
  },
  {
   "cell_type": "code",
   "execution_count": 11,
   "id": "3de9601e",
   "metadata": {
    "slideshow": {
     "slide_type": "fragment"
    }
   },
   "outputs": [
    {
     "data": {
      "text/plain": [
       "True"
      ]
     },
     "execution_count": 11,
     "metadata": {},
     "output_type": "execute_result"
    }
   ],
   "source": [
    "3 > 3 or 3 >= 3 # Combining 3 Boolean expressions"
   ]
  },
  {
   "cell_type": "markdown",
   "id": "060a5ded",
   "metadata": {
    "slideshow": {
     "slide_type": "slide"
    }
   },
   "source": [
    "## Assignment operations\n",
    "\n",
    "Assignments create object references. *Target* (or *name*) on the left is assigned to *object* on the rigth."
   ]
  },
  {
   "cell_type": "code",
   "execution_count": 12,
   "id": "d5a82cca",
   "metadata": {
    "slideshow": {
     "slide_type": "fragment"
    }
   },
   "outputs": [],
   "source": [
    "x = 3"
   ]
  },
  {
   "cell_type": "code",
   "execution_count": 13,
   "id": "10c6a383",
   "metadata": {
    "slideshow": {
     "slide_type": "fragment"
    }
   },
   "outputs": [
    {
     "data": {
      "text/plain": [
       "3"
      ]
     },
     "execution_count": 13,
     "metadata": {},
     "output_type": "execute_result"
    }
   ],
   "source": [
    "x"
   ]
  },
  {
   "cell_type": "code",
   "execution_count": 14,
   "id": "7feb16ef",
   "metadata": {
    "slideshow": {
     "slide_type": "fragment"
    }
   },
   "outputs": [],
   "source": [
    "x += 2 # Increment assignment, equivalent to x = x + 2"
   ]
  },
  {
   "cell_type": "code",
   "execution_count": 15,
   "id": "d03f7f8a",
   "metadata": {
    "slideshow": {
     "slide_type": "fragment"
    }
   },
   "outputs": [
    {
     "data": {
      "text/plain": [
       "5"
      ]
     },
     "execution_count": 15,
     "metadata": {},
     "output_type": "execute_result"
    }
   ],
   "source": [
    "x"
   ]
  },
  {
   "cell_type": "markdown",
   "id": "0d0e13f6",
   "metadata": {
    "slideshow": {
     "slide_type": "slide"
    }
   },
   "source": [
    "## Assignment vs Comparison Operators\n",
    "\n",
    "As `=` (assignment) and `==` (equality comparison) operators appear very similar, they sometime can create confusion."
   ]
  },
  {
   "cell_type": "code",
   "execution_count": 16,
   "id": "56d7c5d1",
   "metadata": {
    "slideshow": {
     "slide_type": "fragment"
    }
   },
   "outputs": [],
   "source": [
    "x = 3"
   ]
  },
  {
   "cell_type": "code",
   "execution_count": 17,
   "id": "d5409df8",
   "metadata": {
    "slideshow": {
     "slide_type": "fragment"
    }
   },
   "outputs": [
    {
     "data": {
      "text/plain": [
       "3"
      ]
     },
     "execution_count": 17,
     "metadata": {},
     "output_type": "execute_result"
    }
   ],
   "source": [
    "x"
   ]
  },
  {
   "cell_type": "code",
   "execution_count": 18,
   "id": "99f8e15f",
   "metadata": {
    "slideshow": {
     "slide_type": "fragment"
    }
   },
   "outputs": [
    {
     "data": {
      "text/plain": [
       "True"
      ]
     },
     "execution_count": 18,
     "metadata": {},
     "output_type": "execute_result"
    }
   ],
   "source": [
    "x == 3"
   ]
  },
  {
   "cell_type": "markdown",
   "id": "6d6c9687",
   "metadata": {
    "slideshow": {
     "slide_type": "slide"
    }
   },
   "source": [
    "## Membership operations\n",
    "\n",
    "Operator `in` returns `True` if an object of the left side is in a sequence on the right."
   ]
  },
  {
   "cell_type": "code",
   "execution_count": 19,
   "id": "1e406df1",
   "metadata": {
    "slideshow": {
     "slide_type": "fragment"
    }
   },
   "outputs": [
    {
     "data": {
      "text/plain": [
       "True"
      ]
     },
     "execution_count": 19,
     "metadata": {},
     "output_type": "execute_result"
    }
   ],
   "source": [
    "'a' in 'abc'"
   ]
  },
  {
   "cell_type": "code",
   "execution_count": 20,
   "id": "e9fb2982",
   "metadata": {
    "slideshow": {
     "slide_type": "fragment"
    }
   },
   "outputs": [
    {
     "data": {
      "text/plain": [
       "False"
      ]
     },
     "execution_count": 20,
     "metadata": {},
     "output_type": "execute_result"
    }
   ],
   "source": [
    "4 in [1, 2, 3] # [1,2,3] is a list"
   ]
  },
  {
   "cell_type": "code",
   "execution_count": 21,
   "id": "2fcb366b",
   "metadata": {
    "slideshow": {
     "slide_type": "fragment"
    }
   },
   "outputs": [
    {
     "data": {
      "text/plain": [
       "True"
      ]
     },
     "execution_count": 21,
     "metadata": {},
     "output_type": "execute_result"
    }
   ],
   "source": [
    "4 not in [1, 2, 3]"
   ]
  },
  {
   "cell_type": "markdown",
   "id": "0a2e7354",
   "metadata": {
    "slideshow": {
     "slide_type": "slide"
    }
   },
   "source": [
    "## Object types\n",
    "\n",
    "Python objects can have *scalar* and *non-scalar* types. Scalar objects are indivisible.\n",
    "\n",
    "4 main types of scalar objects in Python:\n",
    "\n",
    "- Integer (`int`)\n",
    "- Real number (`float`)\n",
    "- Boolean (`bool`)\n",
    "- Null value (`None`)"
   ]
  },
  {
   "cell_type": "markdown",
   "id": "327013cd",
   "metadata": {
    "slideshow": {
     "slide_type": "slide"
    }
   },
   "source": [
    "## Scalar types"
   ]
  },
  {
   "cell_type": "code",
   "execution_count": 22,
   "id": "3e01cd9f",
   "metadata": {
    "slideshow": {
     "slide_type": "fragment"
    }
   },
   "outputs": [
    {
     "data": {
      "text/plain": [
       "int"
      ]
     },
     "execution_count": 22,
     "metadata": {},
     "output_type": "execute_result"
    }
   ],
   "source": [
    "type(7)"
   ]
  },
  {
   "cell_type": "code",
   "execution_count": 23,
   "id": "a7c44d55",
   "metadata": {
    "slideshow": {
     "slide_type": "fragment"
    }
   },
   "outputs": [
    {
     "data": {
      "text/plain": [
       "float"
      ]
     },
     "execution_count": 23,
     "metadata": {},
     "output_type": "execute_result"
    }
   ],
   "source": [
    "type(3.14)"
   ]
  },
  {
   "cell_type": "code",
   "execution_count": 24,
   "id": "080eee1e",
   "metadata": {
    "slideshow": {
     "slide_type": "fragment"
    }
   },
   "outputs": [
    {
     "data": {
      "text/plain": [
       "bool"
      ]
     },
     "execution_count": 24,
     "metadata": {},
     "output_type": "execute_result"
    }
   ],
   "source": [
    "type(True)"
   ]
  },
  {
   "cell_type": "code",
   "execution_count": 25,
   "id": "487f7475",
   "metadata": {
    "slideshow": {
     "slide_type": "fragment"
    }
   },
   "outputs": [
    {
     "data": {
      "text/plain": [
       "NoneType"
      ]
     },
     "execution_count": 25,
     "metadata": {},
     "output_type": "execute_result"
    }
   ],
   "source": [
    "type(None)"
   ]
  },
  {
   "cell_type": "code",
   "execution_count": 26,
   "id": "1787ccd1",
   "metadata": {
    "slideshow": {
     "slide_type": "fragment"
    }
   },
   "outputs": [
    {
     "data": {
      "text/plain": [
       "3"
      ]
     },
     "execution_count": 26,
     "metadata": {},
     "output_type": "execute_result"
    }
   ],
   "source": [
    "int(3.14) # Scalar type conversion (casting)"
   ]
  },
  {
   "cell_type": "markdown",
   "id": "a7302ad8",
   "metadata": {
    "slideshow": {
     "slide_type": "slide"
    }
   },
   "source": [
    "## Non-scalar types\n",
    "\n",
    "In contrast to scalars, non-scalar objects, *sequences*, have some internal structure. This allows indexing, slicing and other interesting operations.\n",
    "\n",
    "Most common sequences in Python are:\n",
    "\n",
    "- String (`str`) - *immutable* ordered sequence of characters\n",
    "- Tuple (`tuple`) - *immutable* ordered sequence of elements\n",
    "- List (`list`) - *mutable* ordered sequence of elements\n",
    "- Set (`set`) - *mutable* unordered collection of unique elements\n",
    "- Dictionary (`dict`) - *mutable* unordered collection of key-value pairs"
   ]
  },
  {
   "cell_type": "markdown",
   "id": "9846b832",
   "metadata": {
    "slideshow": {
     "slide_type": "slide"
    }
   },
   "source": [
    "## Examples of non-scalar types"
   ]
  },
  {
   "cell_type": "code",
   "execution_count": 27,
   "id": "eed87d5c",
   "metadata": {
    "slideshow": {
     "slide_type": "fragment"
    }
   },
   "outputs": [],
   "source": [
    "s = 'time flies like a banana'\n",
    "t = (0, 'one', 1, 2)\n",
    "l = [0, 'one', 1, 2]\n",
    "o = {'apple', 'banana', 'watermelon'}\n",
    "d = {'apple': 150.0, 'banana': 120.0, 'watermelon': 3000.0}"
   ]
  },
  {
   "cell_type": "code",
   "execution_count": 28,
   "id": "ab4397b5",
   "metadata": {
    "slideshow": {
     "slide_type": "fragment"
    }
   },
   "outputs": [
    {
     "data": {
      "text/plain": [
       "str"
      ]
     },
     "execution_count": 28,
     "metadata": {},
     "output_type": "execute_result"
    }
   ],
   "source": [
    "type(s)"
   ]
  },
  {
   "cell_type": "code",
   "execution_count": 29,
   "id": "e1f2f7f2",
   "metadata": {
    "slideshow": {
     "slide_type": "fragment"
    }
   },
   "outputs": [
    {
     "data": {
      "text/plain": [
       "tuple"
      ]
     },
     "execution_count": 29,
     "metadata": {},
     "output_type": "execute_result"
    }
   ],
   "source": [
    "type(t)"
   ]
  },
  {
   "cell_type": "code",
   "execution_count": 30,
   "id": "110f07f8",
   "metadata": {
    "slideshow": {
     "slide_type": "fragment"
    }
   },
   "outputs": [
    {
     "data": {
      "text/plain": [
       "list"
      ]
     },
     "execution_count": 30,
     "metadata": {},
     "output_type": "execute_result"
    }
   ],
   "source": [
    "type(l)"
   ]
  },
  {
   "cell_type": "code",
   "execution_count": 31,
   "id": "f99d909c",
   "metadata": {
    "slideshow": {
     "slide_type": "fragment"
    }
   },
   "outputs": [
    {
     "data": {
      "text/plain": [
       "set"
      ]
     },
     "execution_count": 31,
     "metadata": {},
     "output_type": "execute_result"
    }
   ],
   "source": [
    "type(o)"
   ]
  },
  {
   "cell_type": "code",
   "execution_count": 32,
   "id": "f8c9f534",
   "metadata": {
    "slideshow": {
     "slide_type": "fragment"
    }
   },
   "outputs": [
    {
     "data": {
      "text/plain": [
       "dict"
      ]
     },
     "execution_count": 32,
     "metadata": {},
     "output_type": "execute_result"
    }
   ],
   "source": [
    "type(d)"
   ]
  },
  {
   "cell_type": "markdown",
   "id": "2a9591e6",
   "metadata": {
    "slideshow": {
     "slide_type": "slide"
    }
   },
   "source": [
    "## Strings"
   ]
  },
  {
   "cell_type": "code",
   "execution_count": 33,
   "id": "64c7e0df",
   "metadata": {
    "slideshow": {
     "slide_type": "fragment"
    }
   },
   "outputs": [
    {
     "data": {
      "text/plain": [
       "'time flies like a banana'"
      ]
     },
     "execution_count": 33,
     "metadata": {},
     "output_type": "execute_result"
    }
   ],
   "source": [
    "s"
   ]
  },
  {
   "cell_type": "code",
   "execution_count": 34,
   "id": "4ef597e3",
   "metadata": {
    "slideshow": {
     "slide_type": "fragment"
    }
   },
   "outputs": [
    {
     "data": {
      "text/plain": [
       "24"
      ]
     },
     "execution_count": 34,
     "metadata": {},
     "output_type": "execute_result"
    }
   ],
   "source": [
    "len(s) # length of string (including whitespaces)"
   ]
  },
  {
   "cell_type": "code",
   "execution_count": 35,
   "id": "5cf9bfb0",
   "metadata": {
    "slideshow": {
     "slide_type": "fragment"
    }
   },
   "outputs": [
    {
     "data": {
      "text/plain": [
       "'t'"
      ]
     },
     "execution_count": 35,
     "metadata": {},
     "output_type": "execute_result"
    }
   ],
   "source": [
    "s[0] # Subset 1st element (indexing in Python starts from zero!)"
   ]
  },
  {
   "cell_type": "code",
   "execution_count": 36,
   "id": "13d75d49",
   "metadata": {
    "slideshow": {
     "slide_type": "fragment"
    }
   },
   "outputs": [
    {
     "data": {
      "text/plain": [
       "'flies like a banana'"
      ]
     },
     "execution_count": 36,
     "metadata": {},
     "output_type": "execute_result"
    }
   ],
   "source": [
    "s[5:] # Subset all elements starting from 6th"
   ]
  },
  {
   "cell_type": "code",
   "execution_count": 37,
   "id": "8238c0b3",
   "metadata": {
    "slideshow": {
     "slide_type": "fragment"
    }
   },
   "outputs": [
    {
     "data": {
      "text/plain": [
       "'time flies like a banana!'"
      ]
     },
     "execution_count": 37,
     "metadata": {},
     "output_type": "execute_result"
    }
   ],
   "source": [
    "s + '!' # Strings can be concatenated together"
   ]
  },
  {
   "cell_type": "markdown",
   "id": "ce094c9b",
   "metadata": {
    "slideshow": {
     "slide_type": "slide"
    }
   },
   "source": [
    "## Objects have methods\n",
    "\n",
    "- Python objects of built-in types have *methods* associated with them\n",
    "- They can be thought of function-like objects\n",
    "- However, their syntax is `object.method()` as opposed to `function(object)`"
   ]
  },
  {
   "cell_type": "code",
   "execution_count": 38,
   "id": "3e5d4912",
   "metadata": {
    "slideshow": {
     "slide_type": "fragment"
    }
   },
   "outputs": [
    {
     "data": {
      "text/plain": [
       "24"
      ]
     },
     "execution_count": 38,
     "metadata": {},
     "output_type": "execute_result"
    }
   ],
   "source": [
    "len(s) # Function"
   ]
  },
  {
   "cell_type": "code",
   "execution_count": 39,
   "id": "93c17c81",
   "metadata": {
    "slideshow": {
     "slide_type": "fragment"
    }
   },
   "outputs": [
    {
     "data": {
      "text/plain": [
       "'TIME FLIES LIKE A BANANA'"
      ]
     },
     "execution_count": 39,
     "metadata": {},
     "output_type": "execute_result"
    }
   ],
   "source": [
    "s.upper() # Method (makes string upper-case)"
   ]
  },
  {
   "cell_type": "markdown",
   "id": "0ecaaae9",
   "metadata": {
    "slideshow": {
     "slide_type": "slide"
    }
   },
   "source": [
    "## String methods\n",
    "\n",
    "Some examples of methods associated with strings. More details [here](https://docs.python.org/3/library/stdtypes.html#string-methods)."
   ]
  },
  {
   "cell_type": "code",
   "execution_count": 40,
   "id": "1e724bb4",
   "metadata": {
    "slideshow": {
     "slide_type": "fragment"
    }
   },
   "outputs": [
    {
     "data": {
      "text/plain": [
       "'Time flies like a banana'"
      ]
     },
     "execution_count": 40,
     "metadata": {},
     "output_type": "execute_result"
    }
   ],
   "source": [
    "s.capitalize() # Note that only the first character gets capitalized"
   ]
  },
  {
   "cell_type": "code",
   "execution_count": 41,
   "id": "29e2b118",
   "metadata": {
    "slideshow": {
     "slide_type": "fragment"
    }
   },
   "outputs": [
    {
     "data": {
      "text/plain": [
       "['time', 'flies', 'like', 'a', 'banana']"
      ]
     },
     "execution_count": 41,
     "metadata": {},
     "output_type": "execute_result"
    }
   ],
   "source": [
    "s.split(sep = ' ') # Here we supply an argument 'sep' to our methods call"
   ]
  },
  {
   "cell_type": "code",
   "execution_count": 42,
   "id": "a8ab9be0",
   "metadata": {
    "slideshow": {
     "slide_type": "fragment"
    }
   },
   "outputs": [
    {
     "data": {
      "text/plain": [
       "'time-flies-like-a-banana'"
      ]
     },
     "execution_count": 42,
     "metadata": {},
     "output_type": "execute_result"
    }
   ],
   "source": [
    "s.replace(' ', '-') # Arguments can also be matched by position, not just name"
   ]
  },
  {
   "cell_type": "code",
   "execution_count": 43,
   "id": "c40144d2",
   "metadata": {
    "slideshow": {
     "slide_type": "fragment"
    }
   },
   "outputs": [
    {
     "data": {
      "text/plain": [
       "'time-flies-like-a-banana'"
      ]
     },
     "execution_count": 43,
     "metadata": {},
     "output_type": "execute_result"
    }
   ],
   "source": [
    "'-'.join(s.split(sep = ' ')) # Methods calls can be nested within each other"
   ]
  },
  {
   "cell_type": "markdown",
   "id": "6132d5ed",
   "metadata": {
    "slideshow": {
     "slide_type": "slide"
    }
   },
   "source": [
    "## Tuples"
   ]
  },
  {
   "cell_type": "code",
   "execution_count": 44,
   "id": "d3dcc2d2",
   "metadata": {
    "slideshow": {
     "slide_type": "fragment"
    }
   },
   "outputs": [
    {
     "data": {
      "text/plain": [
       "(0, 'one', 1, 2)"
      ]
     },
     "execution_count": 44,
     "metadata": {},
     "output_type": "execute_result"
    }
   ],
   "source": [
    "t # Tuples can contain elements of different types"
   ]
  },
  {
   "cell_type": "code",
   "execution_count": 45,
   "id": "3cbd0bbb",
   "metadata": {
    "slideshow": {
     "slide_type": "fragment"
    }
   },
   "outputs": [
    {
     "data": {
      "text/plain": [
       "4"
      ]
     },
     "execution_count": 45,
     "metadata": {},
     "output_type": "execute_result"
    }
   ],
   "source": [
    "len(t)"
   ]
  },
  {
   "cell_type": "code",
   "execution_count": 46,
   "id": "b334f32f",
   "metadata": {
    "slideshow": {
     "slide_type": "fragment"
    }
   },
   "outputs": [
    {
     "data": {
      "text/plain": [
       "('one', 1, 2)"
      ]
     },
     "execution_count": 46,
     "metadata": {},
     "output_type": "execute_result"
    }
   ],
   "source": [
    "t[1:]"
   ]
  },
  {
   "cell_type": "code",
   "execution_count": 47,
   "id": "97ec4979",
   "metadata": {
    "slideshow": {
     "slide_type": "fragment"
    }
   },
   "outputs": [
    {
     "data": {
      "text/plain": [
       "(0, 'one', 1, 2, 'three', 5)"
      ]
     },
     "execution_count": 47,
     "metadata": {},
     "output_type": "execute_result"
    }
   ],
   "source": [
    "t + ('three', 5) # Like strings tuples can be concatenated"
   ]
  },
  {
   "cell_type": "markdown",
   "id": "6af7619c",
   "metadata": {
    "slideshow": {
     "slide_type": "slide"
    }
   },
   "source": [
    "## Lists"
   ]
  },
  {
   "cell_type": "code",
   "execution_count": 48,
   "id": "74f9bae4",
   "metadata": {
    "slideshow": {
     "slide_type": "fragment"
    }
   },
   "outputs": [
    {
     "data": {
      "text/plain": [
       "[0, 'one', 1, 2]"
      ]
     },
     "execution_count": 48,
     "metadata": {},
     "output_type": "execute_result"
    }
   ],
   "source": [
    "l # Like tuples lists can contain elements of different types"
   ]
  },
  {
   "cell_type": "code",
   "execution_count": 49,
   "id": "64ecf9b2",
   "metadata": {
    "slideshow": {
     "slide_type": "fragment"
    }
   },
   "outputs": [],
   "source": [
    "l[1] = 1 # Unlike tuples lists are mutable"
   ]
  },
  {
   "cell_type": "code",
   "execution_count": 50,
   "id": "f03be4a3",
   "metadata": {
    "slideshow": {
     "slide_type": "fragment"
    }
   },
   "outputs": [
    {
     "data": {
      "text/plain": [
       "[0, 1, 1, 2]"
      ]
     },
     "execution_count": 50,
     "metadata": {},
     "output_type": "execute_result"
    }
   ],
   "source": [
    "l"
   ]
  },
  {
   "cell_type": "code",
   "execution_count": 51,
   "id": "905ab500",
   "metadata": {
    "slideshow": {
     "slide_type": "fragment"
    }
   },
   "outputs": [
    {
     "ename": "TypeError",
     "evalue": "'tuple' object does not support item assignment",
     "output_type": "error",
     "traceback": [
      "\u001b[0;31m---------------------------------------------------------------------------\u001b[0m",
      "\u001b[0;31mTypeError\u001b[0m                                 Traceback (most recent call last)",
      "\u001b[0;32m<ipython-input-51-4e4114da061e>\u001b[0m in \u001b[0;36m<module>\u001b[0;34m\u001b[0m\n\u001b[0;32m----> 1\u001b[0;31m \u001b[0mt\u001b[0m\u001b[0;34m[\u001b[0m\u001b[0;36m1\u001b[0m\u001b[0;34m]\u001b[0m \u001b[0;34m=\u001b[0m \u001b[0;36m1\u001b[0m \u001b[0;31m# Compare to tuple\u001b[0m\u001b[0;34m\u001b[0m\u001b[0;34m\u001b[0m\u001b[0m\n\u001b[0m",
      "\u001b[0;31mTypeError\u001b[0m: 'tuple' object does not support item assignment"
     ]
    }
   ],
   "source": [
    "t[1] = 1 # Compare to tuple"
   ]
  },
  {
   "cell_type": "markdown",
   "id": "5f0afd55",
   "metadata": {
    "slideshow": {
     "slide_type": "slide"
    }
   },
   "source": [
    "## More on subsetting"
   ]
  },
  {
   "cell_type": "code",
   "execution_count": 52,
   "id": "fa581b02",
   "metadata": {
    "slideshow": {
     "slide_type": "fragment"
    }
   },
   "outputs": [
    {
     "data": {
      "text/plain": [
       "[0, 1, 1, 2]"
      ]
     },
     "execution_count": 52,
     "metadata": {},
     "output_type": "execute_result"
    }
   ],
   "source": [
    "l"
   ]
  },
  {
   "cell_type": "code",
   "execution_count": 53,
   "id": "e63c649a",
   "metadata": {
    "slideshow": {
     "slide_type": "fragment"
    }
   },
   "outputs": [
    {
     "data": {
      "text/plain": [
       "[1, 1, 2]"
      ]
     },
     "execution_count": 53,
     "metadata": {},
     "output_type": "execute_result"
    }
   ],
   "source": [
    "l[1:] # Subset all elements starting from 2nd"
   ]
  },
  {
   "cell_type": "code",
   "execution_count": 54,
   "id": "b155db95",
   "metadata": {
    "slideshow": {
     "slide_type": "fragment"
    }
   },
   "outputs": [
    {
     "data": {
      "text/plain": [
       "2"
      ]
     },
     "execution_count": 54,
     "metadata": {},
     "output_type": "execute_result"
    }
   ],
   "source": [
    "l[-1] # Subset the last element"
   ]
  },
  {
   "cell_type": "code",
   "execution_count": 55,
   "id": "75818be8",
   "metadata": {
    "slideshow": {
     "slide_type": "fragment"
    }
   },
   "outputs": [
    {
     "data": {
      "text/plain": [
       "[0, 1]"
      ]
     },
     "execution_count": 55,
     "metadata": {},
     "output_type": "execute_result"
    }
   ],
   "source": [
    "l[::2] # Subset every second element, list[start:stop:step]"
   ]
  },
  {
   "cell_type": "code",
   "execution_count": 56,
   "id": "e44d1da2",
   "metadata": {
    "slideshow": {
     "slide_type": "fragment"
    }
   },
   "outputs": [
    {
     "data": {
      "text/plain": [
       "[2, 1, 1, 0]"
      ]
     },
     "execution_count": 56,
     "metadata": {},
     "output_type": "execute_result"
    }
   ],
   "source": [
    "l[::-1] # Subset all elements in reverse order"
   ]
  },
  {
   "cell_type": "markdown",
   "id": "f9118ff6",
   "metadata": {
    "slideshow": {
     "slide_type": "slide"
    }
   },
   "source": [
    "## Sets"
   ]
  },
  {
   "cell_type": "code",
   "execution_count": 57,
   "id": "ac8f6598",
   "metadata": {
    "slideshow": {
     "slide_type": "fragment"
    }
   },
   "outputs": [
    {
     "data": {
      "text/plain": [
       "{'apple', 'banana', 'watermelon'}"
      ]
     },
     "execution_count": 57,
     "metadata": {},
     "output_type": "execute_result"
    }
   ],
   "source": [
    "o"
   ]
  },
  {
   "cell_type": "code",
   "execution_count": 58,
   "id": "42d94d00",
   "metadata": {
    "slideshow": {
     "slide_type": "fragment"
    }
   },
   "outputs": [
    {
     "data": {
      "text/plain": [
       "{'apple', 'banana', 'watermelon'}"
      ]
     },
     "execution_count": 58,
     "metadata": {},
     "output_type": "execute_result"
    }
   ],
   "source": [
    "{'apple', 'apple', 'banana', 'watermelon'} # Sets retain only unique values"
   ]
  },
  {
   "cell_type": "code",
   "execution_count": 59,
   "id": "24b67be2",
   "metadata": {
    "slideshow": {
     "slide_type": "fragment"
    }
   },
   "outputs": [
    {
     "data": {
      "text/plain": [
       "True"
      ]
     },
     "execution_count": 59,
     "metadata": {},
     "output_type": "execute_result"
    }
   ],
   "source": [
    "{'apple'} < o # Sets can be compared (e.g. one being subset of another)"
   ]
  },
  {
   "cell_type": "code",
   "execution_count": 60,
   "id": "f3676f7e",
   "metadata": {
    "slideshow": {
     "slide_type": "fragment"
    }
   },
   "outputs": [
    {
     "ename": "TypeError",
     "evalue": "'set' object is not subscriptable",
     "output_type": "error",
     "traceback": [
      "\u001b[0;31m---------------------------------------------------------------------------\u001b[0m",
      "\u001b[0;31mTypeError\u001b[0m                                 Traceback (most recent call last)",
      "\u001b[0;32m<ipython-input-60-6a3d97725b65>\u001b[0m in \u001b[0;36m<module>\u001b[0;34m\u001b[0m\n\u001b[0;32m----> 1\u001b[0;31m \u001b[0mo\u001b[0m\u001b[0;34m[\u001b[0m\u001b[0;36m1\u001b[0m\u001b[0;34m]\u001b[0m \u001b[0;31m# Unlike strings, tuples and lists, sets are unordered\u001b[0m\u001b[0;34m\u001b[0m\u001b[0;34m\u001b[0m\u001b[0m\n\u001b[0m",
      "\u001b[0;31mTypeError\u001b[0m: 'set' object is not subscriptable"
     ]
    }
   ],
   "source": [
    "o[1] # Unlike strings, tuples and lists, sets are unordered"
   ]
  },
  {
   "cell_type": "markdown",
   "id": "7ff9e1e9",
   "metadata": {
    "slideshow": {
     "slide_type": "slide"
    }
   },
   "source": [
    "## Set methods\n",
    "\n",
    "<div style=\"text-align: center;\">\n",
    "    <img width=\"500\" height=\"300\" src=\"../imgs/europe_diagram.png\">\n",
    "</div>\n",
    "\n",
    "Source: [Wikipedia](https://en.wikipedia.org/w/index.php?title=File:Supranational_European_Bodies-en.svg)"
   ]
  },
  {
   "cell_type": "markdown",
   "id": "77005b72",
   "metadata": {
    "slideshow": {
     "slide_type": "slide"
    }
   },
   "source": [
    "## Set methods"
   ]
  },
  {
   "cell_type": "code",
   "execution_count": 61,
   "id": "79799c82",
   "metadata": {
    "slideshow": {
     "slide_type": "fragment"
    }
   },
   "outputs": [],
   "source": [
    "nordic = {'Denmark', 'Iceland', 'Finland', 'Norway', 'Sweden'}\n",
    "eu = {'Denmark', 'Finland', 'Sweden'}\n",
    "krones = {'Denmark', 'Sweden'}"
   ]
  },
  {
   "cell_type": "code",
   "execution_count": 62,
   "id": "1d3fd37b",
   "metadata": {
    "slideshow": {
     "slide_type": "fragment"
    }
   },
   "outputs": [
    {
     "data": {
      "text/plain": [
       "{'Finland'}"
      ]
     },
     "execution_count": 62,
     "metadata": {},
     "output_type": "execute_result"
    }
   ],
   "source": [
    "euro = eu.difference(krones) # Same can expressed using infix operators `eu - krones`\n",
    "euro"
   ]
  },
  {
   "cell_type": "code",
   "execution_count": 63,
   "id": "1bfaba1b",
   "metadata": {
    "slideshow": {
     "slide_type": "fragment"
    }
   },
   "outputs": [
    {
     "data": {
      "text/plain": [
       "{'Iceland', 'Liechtenstein', 'Norway', 'Switzerland'}"
      ]
     },
     "execution_count": 63,
     "metadata": {},
     "output_type": "execute_result"
    }
   ],
   "source": [
    "efta = nordic.difference(eu).union({'Liechtenstein', 'Switzerland'}) # Methods calls can also be 'chained'\n",
    "efta"
   ]
  },
  {
   "cell_type": "code",
   "execution_count": 64,
   "id": "ad24ea18",
   "metadata": {
    "slideshow": {
     "slide_type": "fragment"
    }
   },
   "outputs": [
    {
     "data": {
      "text/plain": [
       "{'Iceland', 'Norway'}"
      ]
     },
     "execution_count": 64,
     "metadata": {},
     "output_type": "execute_result"
    }
   ],
   "source": [
    "efta.intersection(nordic) # efta & nordic"
   ]
  },
  {
   "cell_type": "code",
   "execution_count": 65,
   "id": "7799bd35",
   "metadata": {
    "slideshow": {
     "slide_type": "fragment"
    }
   },
   "outputs": [
    {
     "data": {
      "text/plain": [
       "{'Denmark',\n",
       " 'Finland',\n",
       " 'Iceland',\n",
       " 'Liechtenstein',\n",
       " 'Norway',\n",
       " 'Sweden',\n",
       " 'Switzerland'}"
      ]
     },
     "execution_count": 65,
     "metadata": {},
     "output_type": "execute_result"
    }
   ],
   "source": [
    "schengen = efta.union(eu) # efta | eu\n",
    "schengen"
   ]
  },
  {
   "cell_type": "markdown",
   "id": "4f4ca94e",
   "metadata": {
    "slideshow": {
     "slide_type": "slide"
    }
   },
   "source": [
    "## Dictionaries"
   ]
  },
  {
   "cell_type": "code",
   "execution_count": 66,
   "id": "10e3e768",
   "metadata": {
    "slideshow": {
     "slide_type": "fragment"
    }
   },
   "outputs": [
    {
     "data": {
      "text/plain": [
       "{'apple': 150.0, 'banana': 120.0, 'watermelon': 3000.0}"
      ]
     },
     "execution_count": 66,
     "metadata": {},
     "output_type": "execute_result"
    }
   ],
   "source": [
    "d"
   ]
  },
  {
   "cell_type": "code",
   "execution_count": 67,
   "id": "e8854a30",
   "metadata": {
    "slideshow": {
     "slide_type": "fragment"
    }
   },
   "outputs": [
    {
     "data": {
      "text/plain": [
       "150.0"
      ]
     },
     "execution_count": 67,
     "metadata": {},
     "output_type": "execute_result"
    }
   ],
   "source": [
    "d['apple'] # Unlike strings, tuples and lists, dictionaries are indexed by 'keys'"
   ]
  },
  {
   "cell_type": "code",
   "execution_count": 68,
   "id": "d5f47a1b",
   "metadata": {
    "slideshow": {
     "slide_type": "fragment"
    }
   },
   "outputs": [
    {
     "ename": "KeyError",
     "evalue": "0",
     "output_type": "error",
     "traceback": [
      "\u001b[0;31m---------------------------------------------------------------------------\u001b[0m",
      "\u001b[0;31mKeyError\u001b[0m                                  Traceback (most recent call last)",
      "\u001b[0;32m<ipython-input-68-3cd4cfa8b308>\u001b[0m in \u001b[0;36m<module>\u001b[0;34m\u001b[0m\n\u001b[0;32m----> 1\u001b[0;31m \u001b[0md\u001b[0m\u001b[0;34m[\u001b[0m\u001b[0;36m0\u001b[0m\u001b[0;34m]\u001b[0m \u001b[0;31m# Rather than integers\u001b[0m\u001b[0;34m\u001b[0m\u001b[0;34m\u001b[0m\u001b[0m\n\u001b[0m",
      "\u001b[0;31mKeyError\u001b[0m: 0"
     ]
    }
   ],
   "source": [
    "d[0] # Rather than integers"
   ]
  },
  {
   "cell_type": "code",
   "execution_count": 69,
   "id": "2ee917bb",
   "metadata": {
    "slideshow": {
     "slide_type": "fragment"
    }
   },
   "outputs": [
    {
     "data": {
      "text/plain": [
       "{'apple': 150.0, 'banana': 120.0, 'watermelon': 3000.0, 'strawberry': 12.0}"
      ]
     },
     "execution_count": 69,
     "metadata": {},
     "output_type": "execute_result"
    }
   ],
   "source": [
    "d['strawberry'] = 12.0 # They are, however, mutable like lists and sets\n",
    "d"
   ]
  },
  {
   "cell_type": "markdown",
   "id": "96e8460d",
   "metadata": {
    "slideshow": {
     "slide_type": "slide"
    }
   },
   "source": [
    "## Conversion between non-scalar types"
   ]
  },
  {
   "cell_type": "code",
   "execution_count": 70,
   "id": "ac7d4a2b",
   "metadata": {
    "slideshow": {
     "slide_type": "fragment"
    }
   },
   "outputs": [
    {
     "data": {
      "text/plain": [
       "(0, 'one', 1, 2)"
      ]
     },
     "execution_count": 70,
     "metadata": {},
     "output_type": "execute_result"
    }
   ],
   "source": [
    "t ## Tuple"
   ]
  },
  {
   "cell_type": "code",
   "execution_count": 71,
   "id": "97265137",
   "metadata": {
    "slideshow": {
     "slide_type": "fragment"
    }
   },
   "outputs": [
    {
     "data": {
      "text/plain": [
       "[0, 'one', 1, 2]"
      ]
     },
     "execution_count": 71,
     "metadata": {},
     "output_type": "execute_result"
    }
   ],
   "source": [
    "list(t) ## Convert to list with a `list` function"
   ]
  },
  {
   "cell_type": "code",
   "execution_count": 72,
   "id": "31c5ce2c",
   "metadata": {
    "slideshow": {
     "slide_type": "fragment"
    }
   },
   "outputs": [
    {
     "data": {
      "text/plain": [
       "[0, 'one', 1, 2]"
      ]
     },
     "execution_count": 72,
     "metadata": {},
     "output_type": "execute_result"
    }
   ],
   "source": [
    "[x for x in t] ## List comprehesion, [expr for elem in iterable if test]"
   ]
  },
  {
   "cell_type": "code",
   "execution_count": 73,
   "id": "1b37d6df",
   "metadata": {
    "slideshow": {
     "slide_type": "fragment"
    }
   },
   "outputs": [
    {
     "data": {
      "text/plain": [
       "{0, 1, 2}"
      ]
     },
     "execution_count": 73,
     "metadata": {},
     "output_type": "execute_result"
    }
   ],
   "source": [
    "set([0, 1, 1, 2]) ## Conversion to set retains only unique values"
   ]
  },
  {
   "cell_type": "markdown",
   "id": "0b25232b",
   "metadata": {
    "slideshow": {
     "slide_type": "slide"
    }
   },
   "source": [
    "## Summary of built-in object types in Python\n",
    "\n",
    "|  Type   |  Description  |   Scalar   | Mutability |   Order   |\n",
    "| :-----: | :-----------: | :--------: | :--------: | :-------: |\n",
    "|  `int`  |    integer    |   scalar   | immutable  |           |\n",
    "| `float` |  real number  |   scalar   | immutable  |           |\n",
    "| `bool`  |    Boolean    |   scalar   | immutable  |           |\n",
    "| `None`  | Python 'Null' |   scalar   | immutable  |           |\n",
    "|  `str`  |    string     | non-scalar | immutable  |  ordered  |\n",
    "| `tuple` |     tuple     | non-scalar | immutable  |  ordered  |\n",
    "| `list`  |     list      | non-scalar |  mutable   |  ordered  |\n",
    "|  `set`  |      set      | non-scalar |  mutable   | unordered |\n",
    "| `dict`  |  dictionary   | non-scalar |  mutable   | unordered |\n",
    "\n",
    "Extra: [Extensive documentation on built-it types](https://docs.python.org/3/library/stdtypes.html)"
   ]
  },
  {
   "cell_type": "markdown",
   "id": "5633a107",
   "metadata": {
    "slideshow": {
     "slide_type": "slide"
    }
   },
   "source": [
    "## Modules\n",
    "\n",
    "- Python's power lies in its extensibility\n",
    "- This is usually achieved by loading additional modules (libraries)\n",
    "- Module can be just a `.py` file that you import into your program (script)\n",
    "- However, often this refers to external libraries installed using `pip` or `conda`\n",
    "- Standard Python installation also includes a number of modules (full list [here](https://docs.python.org/3/library/index.html))"
   ]
  },
  {
   "cell_type": "markdown",
   "id": "b4b84953",
   "metadata": {
    "slideshow": {
     "slide_type": "slide"
    }
   },
   "source": [
    "## Basic statistical operations"
   ]
  },
  {
   "cell_type": "code",
   "execution_count": 74,
   "id": "647290d4",
   "metadata": {
    "slideshow": {
     "slide_type": "fragment"
    }
   },
   "outputs": [],
   "source": [
    "import statistics # Standard Python module\n",
    "fib = [0, 1, 1, 2, 3, 5]"
   ]
  },
  {
   "cell_type": "code",
   "execution_count": 75,
   "id": "87f1ecfb",
   "metadata": {
    "slideshow": {
     "slide_type": "fragment"
    }
   },
   "outputs": [
    {
     "data": {
      "text/plain": [
       "2"
      ]
     },
     "execution_count": 75,
     "metadata": {},
     "output_type": "execute_result"
    }
   ],
   "source": [
    "statistics.mean(fib) # Mean"
   ]
  },
  {
   "cell_type": "code",
   "execution_count": 76,
   "id": "751e2592",
   "metadata": {
    "slideshow": {
     "slide_type": "fragment"
    }
   },
   "outputs": [
    {
     "data": {
      "text/plain": [
       "1.5"
      ]
     },
     "execution_count": 76,
     "metadata": {},
     "output_type": "execute_result"
    }
   ],
   "source": [
    "statistics.median(fib) # Median"
   ]
  },
  {
   "cell_type": "code",
   "execution_count": 77,
   "id": "56b1364d",
   "metadata": {
    "slideshow": {
     "slide_type": "fragment"
    }
   },
   "outputs": [
    {
     "data": {
      "text/plain": [
       "1"
      ]
     },
     "execution_count": 77,
     "metadata": {},
     "output_type": "execute_result"
    }
   ],
   "source": [
    "statistics.mode(fib) # Mode"
   ]
  },
  {
   "cell_type": "code",
   "execution_count": 78,
   "id": "ce7c9fb9",
   "metadata": {
    "slideshow": {
     "slide_type": "fragment"
    }
   },
   "outputs": [
    {
     "data": {
      "text/plain": [
       "1.7888543819998317"
      ]
     },
     "execution_count": 78,
     "metadata": {},
     "output_type": "execute_result"
    }
   ],
   "source": [
    "statistics.stdev(fib) # Standard deviation"
   ]
  },
  {
   "cell_type": "markdown",
   "id": "bae43d34",
   "metadata": {
    "slideshow": {
     "slide_type": "slide"
    }
   },
   "source": [
    "## Help!\n",
    "\n",
    "Python has an inbuilt help facility which provides more information about any object:"
   ]
  },
  {
   "cell_type": "code",
   "execution_count": 79,
   "id": "74e641d7",
   "metadata": {
    "slideshow": {
     "slide_type": "fragment"
    }
   },
   "outputs": [],
   "source": [
    "?s"
   ]
  },
  {
   "cell_type": "code",
   "execution_count": 80,
   "id": "0f931668",
   "metadata": {
    "slideshow": {
     "slide_type": "fragment"
    }
   },
   "outputs": [
    {
     "name": "stdout",
     "output_type": "stream",
     "text": [
      "Help on built-in function join:\n",
      "\n",
      "join(iterable, /) method of builtins.str instance\n",
      "    Concatenate any number of strings.\n",
      "    \n",
      "    The string whose method is called is inserted in between each given string.\n",
      "    The result is returned as a new string.\n",
      "    \n",
      "    Example: '.'.join(['ab', 'pq', 'rs']) -> 'ab.pq.rs'\n",
      "\n"
     ]
    }
   ],
   "source": [
    "help(s.join)"
   ]
  },
  {
   "cell_type": "markdown",
   "id": "96645a4a",
   "metadata": {
    "slideshow": {
     "slide_type": "fragment"
    }
   },
   "source": [
    "- The quality of the documentation varies hugely across libraries\n",
    "- [Stackoverflow](https://stackoverflow.com/) is a good resource for many standard tasks\n",
    "- For custom packages it is often helpful to check the **issues** page on the [GitHub](https://github.com/)\n",
    "- E.g. for `pandas`: [https://github.com/pandas-dev/pandas/issues](https://github.com/pandas-dev/pandas/issues)\n",
    "- Or, indeed, any search engine [#LMDDGTFY](https://lmddgtfy.net/)"
   ]
  },
  {
   "cell_type": "markdown",
   "id": "9f36df3a",
   "metadata": {
    "slideshow": {
     "slide_type": "slide"
    }
   },
   "source": [
    "## Next\n",
    "\n",
    "- Tutorial: Python objects, types, basic operations and methods\n",
    "- Next week: Control flow in Python\n"
   ]
  }
 ],
 "metadata": {
  "celltoolbar": "Slideshow",
  "kernelspec": {
   "display_name": "Python 3",
   "language": "python",
   "name": "python3"
  },
  "language_info": {
   "codemirror_mode": {
    "name": "ipython",
    "version": 3
   },
   "file_extension": ".py",
   "mimetype": "text/x-python",
   "name": "python",
   "nbconvert_exporter": "python",
   "pygments_lexer": "ipython3",
   "version": "3.8.10"
  }
 },
 "nbformat": 4,
 "nbformat_minor": 5
}
