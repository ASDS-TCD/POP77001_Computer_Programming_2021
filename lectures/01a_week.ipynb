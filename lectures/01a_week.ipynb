{
 "cells": [
  {
   "cell_type": "markdown",
   "metadata": {
    "slideshow": {
     "slide_type": "slide"
    }
   },
   "source": [
    "# Week 1: Introduction\n",
    "\n",
    "## POP77001 Computer Programming for Social Scientists\n",
    "\n",
    "### Tom Paskhalis\n",
    "\n",
    "##### Module website: [bit.ly/POP77001](https://bit.ly/POP77001)"
   ]
  },
  {
   "cell_type": "markdown",
   "metadata": {
    "slideshow": {
     "slide_type": "slide"
    }
   },
   "source": [
    "## Overview\n",
    "\n",
    "- Module objectives\n",
    "- Prerequisites and soffware\n",
    "- Materials and books\n",
    "- Module meetings\n",
    "- Assesment and collaboration\n",
    "- Weekly schedule\n"
   ]
  },
  {
   "cell_type": "markdown",
   "metadata": {
    "slideshow": {
     "slide_type": "slide"
    }
   },
   "source": [
    "<div style=\"text-align: center;\">\n",
    "    <img width=\"600\" height=\"300\" src=\"imgs/data_everywhere.jpeg\">\n",
    "</div>"
   ]
  },
  {
   "cell_type": "markdown",
   "metadata": {
    "slideshow": {
     "slide_type": "slide"
    }
   },
   "source": [
    "<div style=\"text-align: center;\">\n",
    "    <img width=\"700\" height=\"400\" src=\"imgs/data_scientist_hbr.png\">\n",
    "</div>\n",
    "\n",
    "Source: [Harvard Business Review](https://hbr.org/2012/10/data-scientist-the-sexiest-job-of-the-21st-century)"
   ]
  },
  {
   "cell_type": "markdown",
   "metadata": {
    "slideshow": {
     "slide_type": "slide"
    }
   },
   "source": [
    "<div style=\"text-align: center;\">\n",
    "    <img width=\"600\" height=\"300\" src=\"imgs/data_science_conway.png\">\n",
    "</div>\n",
    "\n",
    "Source: [Drew Conway](http://drewconway.com/zia/2013/3/26/the-data-science-venn-diagram)"
   ]
  },
  {
   "cell_type": "markdown",
   "metadata": {
    "slideshow": {
     "slide_type": "slide"
    }
   },
   "source": [
    "<div style=\"text-align: center;\">\n",
    "    <img width=\"600\" height=\"300\" src=\"imgs/stats_languages.jpg\">\n",
    "</div>\n",
    "\n",
    "Source: [Reddit](https://www.reddit.com/r/datascience/comments/aoacek/yes/)"
   ]
  },
  {
   "cell_type": "markdown",
   "metadata": {
    "slideshow": {
     "slide_type": "slide"
    }
   },
   "source": [
    "## About me\n",
    "\n",
    "- Assistant Professor in Political Science and Data Science, [Trinity College Dublin](https://www.tcd.ie/)\n",
    "    - Before: Postdoctoral Fellow, [New York University](https://www.nyu.edu/)\n",
    "    - PhD in Social Research Methods, [London School of Economics and Political Science](http://www.lse.ac.uk/)\n",
    "- My research:\n",
    "    - Political communication, social media, interest groups\n",
    "    - Text analysis, machine learning, record linkage, data visualization\n",
    "- Contact\n",
    "    - [tom.paskhalis@tcd.ie](mailto:tom.paskhalis@tcd.ie)\n",
    "    - [tom.paskhal.is](https://tom.paskhal.is/)\n",
    "    - [@tpaskhalis](https://twitter.com/tpaskhalis/)"
   ]
  },
  {
   "cell_type": "markdown",
   "metadata": {
    "slideshow": {
     "slide_type": "slide"
    }
   },
   "source": [
    "## Module Objectives\n",
    "\n",
    "- Introduce the fundamentals of computer programming\n",
    "- Get familiar with Python and R programming languages\n",
    "- Develop understanding of core software design principles\n",
    "- Learn crucial data science techniques\n",
    "- Practice these concepts using social science examples"
   ]
  },
  {
   "cell_type": "markdown",
   "metadata": {
    "slideshow": {
     "slide_type": "slide"
    }
   },
   "source": [
    "## Module Materials\n",
    "\n",
    "- Course website: [bit.ly/POP77001](https://bit.ly/POP77001)\n",
    "- GitHub repository: [github.com/ASDS-TCD/POP77001_Computer_Programming_2021](https://github.com/ASDS-TCD/POP77001_Computer_Programming_2021)"
   ]
  },
  {
   "cell_type": "markdown",
   "metadata": {
    "slideshow": {
     "slide_type": "slide"
    }
   },
   "source": [
    "## Books\n",
    "\n",
    "- Guttag, John. 2021 *Introduction to Computation and Programming Using Python: With Application to Computational Modeling and Understanding Data*. 3rd ed. Cambridge, MA: The MIT Press\n",
    "\n",
    "- Matloff, Norman. 2011. *The Art of R Programming: A Tour of Statistical Software Design*. San Francisco, CA: No Starch Press.\n",
    "\n",
    "- McKinney, Wes. 2017. *Python for Data Analysis: Data Wrangling with Pandas, NumPy, and IPython*. 2nd ed. Sebastopol, CA: O'Reilly Media\n",
    "\n",
    "- Sweigart, Al. 2019. *Automate the Boring Stuff with Python*. 2nd ed. San Francisco, CA: No Starch Press\n",
    "\n",
    "- Wickham, Hadley, and Garrett Grolemund. 2017. [*R for Data Science: Import, Tidy, Transform, Visualize, and Model Data*](http://r4ds.had.co.nz/). Sebastopol, CA: O'Reilly Media.\n"
   ]
  },
  {
   "cell_type": "markdown",
   "metadata": {
    "slideshow": {
     "slide_type": "slide"
    }
   },
   "source": [
    "## Additional Online Materials\n",
    "\n",
    "- [Git Book](https://git-scm.com/book/en/v2)\n",
    "\n",
    "- [Python For You and Me](https://pymbook.readthedocs.io/en/latest/)\n",
    "\n",
    "- [Python Wikibook](https://en.wikibooks.org/wiki/Python_Programming)\n",
    "\n",
    "- [Python 3 Documentation](https://docs.python.org/3/) (intermediate and advanced)\n",
    "\n",
    "- [R Documentation](https://rdrr.io/)\n",
    "\n",
    "- [R Inferno](https://www.burns-stat.com/pages/Tutor/R_inferno.pdf)\n"
   ]
  },
  {
   "cell_type": "markdown",
   "metadata": {
    "slideshow": {
     "slide_type": "slide"
    }
   },
   "source": [
    "## Prerequisites and Software\n",
    "\n",
    "- Introductory module - no formal prerequisites\n",
    "- Laptop with Windows/Mac/Linux OS (no Chrome books)\n",
    "- Software:\n",
    "    - [**Python**](https://www.python.org/) (version 3+) - versatile programming language\n",
    "    - [**R**](https://cran.r-project.org/) (version 4+) - statistical programming language\n",
    "    - [**Jupyter**](https://jupyter.org/) - web-based interactive computational environment\n",
    "    - [**RStudio**](https://www.rstudio.com/) - integrated development environment\n",
    "    - [**Git**](https://git-scm.com/) - version control system\n",
    "    - [**GitHub**](https://github.com/) - git-based online platform for code hosting"
   ]
  },
  {
   "cell_type": "markdown",
   "metadata": {
    "slideshow": {
     "slide_type": "slide"
    }
   },
   "source": [
    "## Module Meetings\n",
    "\n",
    "- 11 two-hour lectures\n",
    "    - Monday at 11:00 in Lloyd Institute LB04\n",
    "- 11 one-hour tutorials\n",
    "    - Group 1: Wednesday 14:00 in Lloyd Institute LB04\n",
    "    - Group 2: Thursday 10:00 in Lloyd Institute LB04\n",
    "- No lecture/tutorial in Week 7\n",
    "- Office hours:\n",
    "    - Thusday 11:00 - 13:00 on [Zoom](https://calendly.com/tom_paskhalis/pop77001_office_hours)"
   ]
  },
  {
   "cell_type": "markdown",
   "metadata": {
    "slideshow": {
     "slide_type": "slide"
    }
   },
   "source": [
    "## Assessment\n",
    "\n",
    "- 5 problem sets (50%)\n",
    "    - Bi-weekly programming assigments\n",
    "    - Due at 11:00 on Monday of weeks 3,5,7,10 and 12 on Blackboard\n",
    "\n",
    "- Research project (50%)\n",
    "    - Final Python/R project demonstrating familiarity with programming concepts and ability to communicate results\n",
    "    - Due at 11:00 on Monday, 20 December 2021"
   ]
  },
  {
   "cell_type": "markdown",
   "metadata": {
    "slideshow": {
     "slide_type": "slide"
    }
   },
   "source": [
    "## Assessment criteria\n",
    "\n",
    "1. ✔️ Code exists\n",
    "2. ⌚ Code runs and does what it has to do\n",
    "3. 📜 Code is legible (meaningful naming, comments)\n",
    "4. ⚙️ Code is modular (no redundacies, use of abstractions)\n",
    "5. 🏎️ Code is optimized (no needless loops, runs fast)\n",
    "\n",
    "Marks at Trinity: [https://www.tcd.ie/academicregistry/exams/student-guide/](https://www.tcd.ie/academicregistry/exams/student-guide/)"
   ]
  },
  {
   "cell_type": "markdown",
   "metadata": {
    "slideshow": {
     "slide_type": "slide"
    }
   },
   "source": [
    "## Plagiarism\n",
    "\n",
    "- Plagiarising computer code is as serious as plagiarising text (see [Google LLC v. Oracle America, Inc.](https://en.wikipedia.org/wiki/Google_LLC_v._Oracle_America%2C_Inc.))\n",
    "- All submitted programming assignments and final project should be done individually\n",
    "- You may discuss general approaches to solutions with your peers\n",
    "- But do not share or view each others code\n",
    "- You can use online resources but give credit in the comments "
   ]
  },
  {
   "cell_type": "markdown",
   "metadata": {
    "slideshow": {
     "slide_type": "slide"
    }
   },
   "source": [
    "## Module Outline\n",
    "\n",
    "|   Week | Language   | Topic                            |\n",
    "|-------:|:-----------|:---------------------------------|\n",
    "|      1 | -          | What is computation?             |\n",
    "|      2 | Python     | Python Basics                    |\n",
    "|      3 | Python     | Control Flow in Python           |\n",
    "|      4 | Python     | Function in Python               |\n",
    "|      5 | Python     | Testing and Debugging in Python  |\n",
    "|      6 | Python     | Data Wrangling in Python         |\n",
    "|      7 | -          | -                                |\n",
    "|      8 | R          | Fundamentals of R Programming I  |\n",
    "|      9 | R          | Fundamentals of R Programming II |\n",
    "|     10 | R          | Data Wrangling in R              |\n",
    "|     11 | Python, R  | Performance and Complexity       |\n",
    "|     12 | Python, R  | Web scraping                     |"
   ]
  },
  {
   "cell_type": "markdown",
   "metadata": {
    "slideshow": {
     "slide_type": "slide"
    }
   },
   "source": [
    "## Next\n",
    "\n",
    "- What is computation?"
   ]
  }
 ],
 "metadata": {
  "celltoolbar": "Slideshow",
  "kernelspec": {
   "display_name": "Python 3",
   "language": "python",
   "name": "python3"
  },
  "language_info": {
   "codemirror_mode": {
    "name": "ipython",
    "version": 3
   },
   "file_extension": ".py",
   "mimetype": "text/x-python",
   "name": "python",
   "nbconvert_exporter": "python",
   "pygments_lexer": "ipython3",
   "version": "3.8.10"
  }
 },
 "nbformat": 4,
 "nbformat_minor": 4
}
